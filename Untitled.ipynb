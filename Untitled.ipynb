{
 "cells": [
  {
   "cell_type": "code",
   "execution_count": 1,
   "metadata": {},
   "outputs": [
    {
     "name": "stdout",
     "output_type": "stream",
     "text": [
      "Initialization done\n"
     ]
    }
   ],
   "source": [
    "from qiskit import *\n",
    "import numpy as np\n",
    "from numpy import linalg\n",
    "import matplotlib\n",
    "import matplotlib.pyplot as plt\n",
    "import pandas as pd\n",
    "import itertools\n",
    "\n",
    "# Qiskit Terra\n",
    "from qiskit import execute, Aer, IBMQ, BasicAer\n",
    "from qiskit import QuantumCircuit, ClassicalRegister, QuantumRegister\n",
    "from qiskit.compiler import transpile, assemble\n",
    "from qiskit.tools.monitor import job_monitor\n",
    "from qiskit.tools.jupyter import *\n",
    "from qiskit.visualization import *\n",
    "from qiskit.quantum_info import Pauli\n",
    "\n",
    "# Qiskit Aqua\n",
    "from qiskit.aqua.components.optimizers import COBYLA, SLSQP, ADAM, SPSA\n",
    "from qiskit.aqua import QuantumInstance, aqua_globals\n",
    "from qiskit.aqua.algorithms import ExactEigensolver, VQE\n",
    "from qiskit.aqua.components.variational_forms import RY, RYRZ\n",
    "from qiskit.aqua.operators import WeightedPauliOperator\n",
    "\n",
    "# Qiskit Aer\n",
    "from qiskit.providers.aer import QasmSimulator\n",
    "\n",
    "# Qiskit extensions\n",
    "from qiskit.extensions import RXGate, CnotGate, XGate, IGate\n",
    "\n",
    "import warnings\n",
    "warnings.filterwarnings('ignore')\n",
    "import time\n",
    "import datetime\n",
    "#from vqe_functions import *\n",
    "\n",
    "# PREPARE FOR CLOUD\n",
    "my_api_token = '359d9c9c5b6a1efc59e40042c9f4b1fe4be830a26ebe42118a1651daac0a7bd8739a64548c525c2fbef276c0c1f2bfe187d908988a0ae6e9de3692be45fb6b8e'\n",
    "provider = IBMQ.enable_account(my_api_token)\n",
    "IBMQ.providers()\n",
    "print('Initialization done')"
   ]
  },
  {
   "cell_type": "code",
   "execution_count": 80,
   "metadata": {},
   "outputs": [],
   "source": [
    "p = np.around(np.array([0,\n",
    "          0,\n",
    "          0,\n",
    "          0,\n",
    "          0,\n",
    "          0,\n",
    "          -4.995908783309162e-17,\n",
    "          -1.3825651267629697e-16,\n",
    "          -3.7485569946282933e-16,\n",
    "          0.7067525967444224,\n",
    "          -0.7071067811865472,\n",
    "          9.365597985064567e-17,\n",
    "          0,\n",
    "          0,\n",
    "          0,\n",
    "          0]),3)\n",
    "\n",
    "b = np.array(((0,0,0,0,0,0,0,0,1,1,1,1,1,1,1,1),\\\n",
    "              (0,0,0,0,1,1,1,1,0,0,0,0,1,1,1,1),\\\n",
    "              (0,0,1,1,0,0,1,1,0,0,1,1,0,0,1,1),\\\n",
    "              (0,1,0,1,0,1,0,1,0,1,0,1,0,1,0,1)))\n",
    "\n",
    "#'0110', '0101', '1001', '1010'"
   ]
  },
  {
   "cell_type": "code",
   "execution_count": 84,
   "metadata": {},
   "outputs": [
    {
     "name": "stdout",
     "output_type": "stream",
     "text": [
      "[0. 0. 0. 0.]\n",
      "[0. 0. 0. 0.]\n",
      "[0. 0. 0. 0.]\n",
      "[0. 0. 0. 0.]\n",
      "[0. 0. 0. 0.]\n",
      "[0. 0. 0. 0.]\n",
      "[0. 0. 0. 0.]\n",
      "[0. 0. 0. 0.]\n",
      "[0. 0. 0. 0.]\n",
      "[0.5 0.  0.  0.5]\n",
      "[0.5 0.  0.5 0. ]\n",
      "[0. 0. 0. 0.]\n",
      "[0. 0. 0. 0.]\n",
      "[0. 0. 0. 0.]\n",
      "[0. 0. 0. 0.]\n",
      "[0. 0. 0. 0.]\n"
     ]
    }
   ],
   "source": [
    "s = 0\n",
    "for i in p:\n",
    "    psi = np.dot(i,b[:,s])\n",
    "    s=s+1\n",
    "    print(np.around(psi*psi,2))"
   ]
  },
  {
   "cell_type": "code",
   "execution_count": null,
   "metadata": {},
   "outputs": [],
   "source": []
  }
 ],
 "metadata": {
  "kernelspec": {
   "display_name": "Python 3",
   "language": "python",
   "name": "python3"
  },
  "language_info": {
   "codemirror_mode": {
    "name": "ipython",
    "version": 3
   },
   "file_extension": ".py",
   "mimetype": "text/x-python",
   "name": "python",
   "nbconvert_exporter": "python",
   "pygments_lexer": "ipython3",
   "version": "3.7.4"
  }
 },
 "nbformat": 4,
 "nbformat_minor": 2
}
