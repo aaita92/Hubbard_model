{
 "cells": [
  {
   "cell_type": "code",
   "execution_count": 1,
   "metadata": {},
   "outputs": [],
   "source": [
    "# MODULE IMPORT\n",
    "%matplotlib inline\n",
    "\n",
    "# Base Python libraries\n",
    "import math, numpy as np, scipy, pandas as pd, matplotlib.pyplot as plt\n",
    "from scipy.linalg import expm\n",
    "from numpy.linalg import matrix_power\n",
    "from datetime import datetime\n",
    "# Custom libraries\n",
    "import inspect"
   ]
  },
  {
   "cell_type": "code",
   "execution_count": 29,
   "metadata": {},
   "outputs": [
    {
     "name": "stdout",
     "output_type": "stream",
     "text": [
      "   nTrot  OptLvl  Depth   u3  cx\n",
      "0    1.5       0     29   38  26\n",
      "1    1.5       3     32   38  32\n",
      "2    2.0       3     39   44  36\n",
      "3    2.5       0     56   72  55\n",
      "4    2.5       3     59   72  64\n",
      "5    3.0       0     55   66  57\n",
      "6    3.0       3     58   66  63\n",
      "7    3.5       0     83  106  87\n",
      "8    3.5       3     86  106  93\n"
     ]
    },
    {
     "data": {
      "image/png": "[encoded data removed]",
      "text/plain": [
       "<Figure size 432x288 with 1 Axes>"
      ]
     },
     "metadata": {
      "needs_background": "light"
     },
     "output_type": "display_data"
    }
   ],
   "source": [
    "# initialize list of lists \n",
    "data = [\n",
    "    [1.5, 0, 29, 38, 26], #6573036740aa03305ffb74375e824b54\n",
    "    [1.5, 3, 32, 38, 32], #41b6eb13c64e2f152652e9746ec111b4\n",
    "    #[2, 0, , , ], #  \n",
    "    [2, 3, 39, 44, 36], #4ac36b4a849b66300aabdbd0301b4015\n",
    "    [2.5, 0, 56, 72, 55], #76986efb583cf5ae092071f28c21f3d8\n",
    "    [2.5, 3, 59, 72, 64], #7fced1b1e562431aa24b58b0efe23a38\n",
    "    [3, 0, 55, 66, 57], #93db0ff697dd9c94ab5dd45c5efa13ad\n",
    "    [3, 3, 58, 66, 63], #c9d77ae9b737f32bb05e26f35bc84e00\n",
    "    [3.5, 0, 83, 106, 87], #971a007c0ccd73849eb9f7addbd756d5\n",
    "    [3.5, 3, 86, 106, 93] #2eb901b9649890e5df0fb28594f58efa\n",
    "] \n",
    "  \n",
    "# Create the pandas DataFrame \n",
    "df = pd.DataFrame(data, columns = ['nTrot', 'OptLvl', 'Depth', 'u3', 'cx']) \n",
    "  \n",
    "# print dataframe \n",
    "print(df)\n",
    "\n",
    "df.plot(x='Depth', y='cx', kind='scatter')\n",
    "plt.show()"
   ]
  },
  {
   "cell_type": "code",
   "execution_count": null,
   "metadata": {},
   "outputs": [],
   "source": []
  }
 ],
 "metadata": {
  "kernelspec": {
   "display_name": "Python 3",
   "language": "python",
   "name": "python3"
  },
  "language_info": {
   "codemirror_mode": {
    "name": "ipython",
    "version": 3
   },
   "file_extension": ".py",
   "mimetype": "text/x-python",
   "name": "python",
   "nbconvert_exporter": "python",
   "pygments_lexer": "ipython3",
   "version": "3.7.4"
  }
 },
 "nbformat": 4,
 "nbformat_minor": 2
}
