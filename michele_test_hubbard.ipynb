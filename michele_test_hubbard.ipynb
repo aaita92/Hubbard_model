{
 "cells": [
  {
   "cell_type": "markdown",
   "metadata": {},
   "source": [
    "## Test new way to implement Hubbard Hamiltonian\n",
    "In order to understand the equivalence of our and aqua hubbard hamiltonian implementation \n",
    "let's make these checks:\n",
    "* hamiltonian length - composition\n",
    "* results"
   ]
  },
  {
   "cell_type": "markdown",
   "metadata": {},
   "source": [
    "https://qiskit.org/documentation/_modules/qiskit/chemistry/fermionic_operator.html"
   ]
  },
  {
   "cell_type": "code",
   "execution_count": 1,
   "metadata": {},
   "outputs": [],
   "source": [
    "from qiskit import QuantumCircuit, execute, Aer, IBMQ\n",
    "from qiskit.compiler import transpile, assemble\n",
    "from qiskit.tools.jupyter import *\n",
    "from qiskit.visualization import *\n",
    "import numpy as np\n",
    "import qiskit\n",
    "from qiskit import *\n",
    "from qiskit import Aer\n",
    "from qiskit.quantum_info import Pauli\n",
    "from qiskit.aqua.operators import WeightedPauliOperator\n",
    "from qiskit.aqua.algorithms import ExactEigensolver\n",
    "from qiskit.aqua.operators.op_converter import to_matrix_operator\n",
    "from qiskit.chemistry.fermionic_operator import *"
   ]
  },
  {
   "cell_type": "markdown",
   "metadata": {},
   "source": [
    " h2(i,j,k,l) --> adag_i adag_k a_l a_j"
   ]
  },
  {
   "cell_type": "markdown",
   "metadata": {},
   "source": [
    "i = l, k =j "
   ]
  },
  {
   "cell_type": "code",
   "execution_count": null,
   "metadata": {},
   "outputs": [],
   "source": [
    "H2 = [0i,3j,0k,3l] = adag_0 adag_0 a_3 a_3 = - adag_0 a_0 adag_3 a_3"
   ]
  },
  {
   "cell_type": "code",
   "execution_count": null,
   "metadata": {},
   "outputs": [],
   "source": [
    "H2 = [1,2,1,2] = adag_0 adag_2 a_2 a_0 =  adag_0 a_0 adag_2 a_2"
   ]
  },
  {
   "cell_type": "code",
   "execution_count": null,
   "metadata": {},
   "outputs": [],
   "source": [
    "H2 = [0i,3j,3k,0l] = adag_0 adag_3 a_0 a3 = - adag0 a_0 adag_3 a_3 = -n0 n3"
   ]
  },
  {
   "cell_type": "markdown",
   "metadata": {},
   "source": [
    "cinetico hopping 1 corpo  h1 \n",
    "potenziale due corpi h2 \n",
    "0   1  2  3 \n",
    "nnlist=[[0,1],[2,3]]\n",
    "\n",
    "      1u 2u 2d 1d\n",
    " \n",
    " new: 1d 2d 2u 1u\n",
    "\n",
    "    n1u       n1d        +     n2u          n2d     --> 0-1 + 2-3\n",
    "(adag_0 a0) * (adag_3 a3)  + (adag_1 a1) (adag_2 a2)\n",
    "\n",
    "new: \n",
    "\n",
    "          Ha              +         Hb \n",
    "\n",
    "adag_0 adag_3 a_0 a_3 = - Ha \n",
    "adag_1 adag_2 a1 a2 = -Hb\n",
    "Ht = Ha + Hb\n",
    "-Ht "
   ]
  },
  {
   "cell_type": "code",
   "execution_count": 41,
   "metadata": {},
   "outputs": [],
   "source": [
    "t=1\n",
    "U=1"
   ]
  },
  {
   "cell_type": "code",
   "execution_count": 95,
   "metadata": {},
   "outputs": [
    {
     "name": "stdout",
     "output_type": "stream",
     "text": [
      "[[0. 1. 0. 0.]\n",
      " [1. 0. 0. 0.]\n",
      " [0. 0. 0. 1.]\n",
      " [0. 0. 1. 0.]]\n"
     ]
    }
   ],
   "source": [
    "#second quantization hamiltonian from iteration:\n",
    "nnlist=[[0,1],[2,3]] ## here we define the mapping (0-1)#1 specie / (2-4)# second specie\n",
    "nnlist1=[[0,3],[1,2]]\n",
    "L=4\n",
    "\n",
    "h1=np.zeros((L,L))\n",
    "h2=np.zeros((L,L,L,L))\n",
    "\n",
    "for p in nnlist:\n",
    "    i=p[0]\n",
    "    j=p[1]\n",
    "    h1[i,j]=t\n",
    "    h1[j,i]=t\n",
    "for a in nnlist1:\n",
    "    i=a[0]\n",
    "    j=a[1]\n",
    "    if i == 0: \n",
    "        h2[i,j,j,i]=U \n",
    "    else:\n",
    "        h2[i,j,j,i]=-U \n",
    "\n",
    "print(h1)\n"
   ]
  },
  {
   "cell_type": "code",
   "execution_count": 96,
   "metadata": {},
   "outputs": [
    {
     "data": {
      "text/plain": [
       "16"
      ]
     },
     "execution_count": 96,
     "metadata": {},
     "output_type": "execute_result"
    }
   ],
   "source": [
    "len(H)"
   ]
  },
  {
   "cell_type": "code",
   "execution_count": 97,
   "metadata": {},
   "outputs": [],
   "source": [
    "#h1"
   ]
  },
  {
   "cell_type": "code",
   "execution_count": 98,
   "metadata": {},
   "outputs": [],
   "source": [
    "#h2"
   ]
  },
  {
   "cell_type": "code",
   "execution_count": 99,
   "metadata": {},
   "outputs": [],
   "source": [
    "#second quantization hamiltonian from from calculation"
   ]
  },
  {
   "cell_type": "code",
   "execution_count": 100,
   "metadata": {},
   "outputs": [
    {
     "name": "stderr",
     "output_type": "stream",
     "text": [
      "/Users/it058990/opt/anaconda3/envs/qiskit_new/lib/python3.8/site-packages/qiskit/aqua/operators/weighted_pauli_operator.py:118: DeprecationWarning: The Pauli.numberofqubits method is deprecated as of 0.13.0, and will be removed no earlier than 3 months after that release date. You should use the Pauli.num_qubits method instead.\n",
      "  return self._paulis[0][1].numberofqubits\n",
      "/Users/it058990/opt/anaconda3/envs/qiskit_new/lib/python3.8/site-packages/qiskit/aqua/operators/weighted_pauli_operator.py:118: DeprecationWarning: The Pauli.numberofqubits method is deprecated as of 0.13.0, and will be removed no earlier than 3 months after that release date. You should use the Pauli.num_qubits method instead.\n",
      "  return self._paulis[0][1].numberofqubits\n",
      "/Users/it058990/opt/anaconda3/envs/qiskit_new/lib/python3.8/site-packages/qiskit/aqua/operators/weighted_pauli_operator.py:118: DeprecationWarning: The Pauli.numberofqubits method is deprecated as of 0.13.0, and will be removed no earlier than 3 months after that release date. You should use the Pauli.num_qubits method instead.\n",
      "  return self._paulis[0][1].numberofqubits\n",
      "/Users/it058990/opt/anaconda3/envs/qiskit_new/lib/python3.8/site-packages/qiskit/aqua/operators/weighted_pauli_operator.py:118: DeprecationWarning: The Pauli.numberofqubits method is deprecated as of 0.13.0, and will be removed no earlier than 3 months after that release date. You should use the Pauli.num_qubits method instead.\n",
      "  return self._paulis[0][1].numberofqubits\n",
      "/Users/it058990/opt/anaconda3/envs/qiskit_new/lib/python3.8/site-packages/qiskit/aqua/operators/weighted_pauli_operator.py:118: DeprecationWarning: The Pauli.numberofqubits method is deprecated as of 0.13.0, and will be removed no earlier than 3 months after that release date. You should use the Pauli.num_qubits method instead.\n",
      "  return self._paulis[0][1].numberofqubits\n",
      "/Users/it058990/opt/anaconda3/envs/qiskit_new/lib/python3.8/site-packages/qiskit/aqua/operators/weighted_pauli_operator.py:118: DeprecationWarning: The Pauli.numberofqubits method is deprecated as of 0.13.0, and will be removed no earlier than 3 months after that release date. You should use the Pauli.num_qubits method instead.\n",
      "  return self._paulis[0][1].numberofqubits\n"
     ]
    },
    {
     "name": "stdout",
     "output_type": "stream",
     "text": [
      "Representation: paulis, qubits: 4, size: 10\n"
     ]
    },
    {
     "name": "stderr",
     "output_type": "stream",
     "text": [
      "/Users/it058990/opt/anaconda3/envs/qiskit_new/lib/python3.8/site-packages/qiskit/aqua/operators/weighted_pauli_operator.py:118: DeprecationWarning: The Pauli.numberofqubits method is deprecated as of 0.13.0, and will be removed no earlier than 3 months after that release date. You should use the Pauli.num_qubits method instead.\n",
      "  return self._paulis[0][1].numberofqubits\n",
      "/Users/it058990/opt/anaconda3/envs/qiskit_new/lib/python3.8/site-packages/qiskit/aqua/operators/weighted_pauli_operator.py:118: DeprecationWarning: The Pauli.numberofqubits method is deprecated as of 0.13.0, and will be removed no earlier than 3 months after that release date. You should use the Pauli.num_qubits method instead.\n",
      "  return self._paulis[0][1].numberofqubits\n",
      "/Users/it058990/opt/anaconda3/envs/qiskit_new/lib/python3.8/site-packages/qiskit/aqua/operators/weighted_pauli_operator.py:118: DeprecationWarning: The Pauli.numberofqubits method is deprecated as of 0.13.0, and will be removed no earlier than 3 months after that release date. You should use the Pauli.num_qubits method instead.\n",
      "  return self._paulis[0][1].numberofqubits\n",
      "/Users/it058990/opt/anaconda3/envs/qiskit_new/lib/python3.8/site-packages/qiskit/aqua/operators/weighted_pauli_operator.py:118: DeprecationWarning: The Pauli.numberofqubits method is deprecated as of 0.13.0, and will be removed no earlier than 3 months after that release date. You should use the Pauli.num_qubits method instead.\n",
      "  return self._paulis[0][1].numberofqubits\n",
      "/Users/it058990/opt/anaconda3/envs/qiskit_new/lib/python3.8/site-packages/qiskit/aqua/operators/weighted_pauli_operator.py:118: DeprecationWarning: The Pauli.numberofqubits method is deprecated as of 0.13.0, and will be removed no earlier than 3 months after that release date. You should use the Pauli.num_qubits method instead.\n",
      "  return self._paulis[0][1].numberofqubits\n"
     ]
    }
   ],
   "source": [
    "#############SPIN HAMILTONIAN FROM AQUA\n",
    "hamiltonian=FermionicOperator(h1,h2) \n",
    "# Build the spin hamiltonian using JW transformation\n",
    "hamiltonian=hamiltonian.mapping('jordan_wigner')\n",
    "print(hamiltonian)\n"
   ]
  },
  {
   "cell_type": "code",
   "execution_count": 101,
   "metadata": {},
   "outputs": [
    {
     "name": "stdout",
     "output_type": "stream",
     "text": [
      "{'paulis': [{'label': 'IIYY', 'coeff': {'real': 0.5, 'imag': 0.0}}, {'label': 'IIXX', 'coeff': {'real': 0.5, 'imag': 0.0}}, {'label': 'YYII', 'coeff': {'real': 0.5, 'imag': 0.0}}, {'label': 'XXII', 'coeff': {'real': 0.5, 'imag': 0.0}}, {'label': 'ZIII', 'coeff': {'real': 0.25, 'imag': 0.0}}, {'label': 'IIIZ', 'coeff': {'real': 0.25, 'imag': 0.0}}, {'label': 'ZIIZ', 'coeff': {'real': -0.25, 'imag': 0.0}}, {'label': 'IZII', 'coeff': {'real': -0.25, 'imag': 0.0}}, {'label': 'IIZI', 'coeff': {'real': -0.25, 'imag': 0.0}}, {'label': 'IZZI', 'coeff': {'real': 0.25, 'imag': 0.0}}]}\n"
     ]
    }
   ],
   "source": [
    "print(hamiltonian.to_dict())"
   ]
  },
  {
   "cell_type": "code",
   "execution_count": null,
   "metadata": {},
   "outputs": [],
   "source": [
    "#############SPIN HAMILTONIAN from calculation"
   ]
  },
  {
   "cell_type": "code",
   "execution_count": null,
   "metadata": {},
   "outputs": [],
   "source": []
  },
  {
   "cell_type": "code",
   "execution_count": null,
   "metadata": {},
   "outputs": [],
   "source": [
    "############################ EVOLUTION ############################################"
   ]
  },
  {
   "cell_type": "code",
   "execution_count": 8,
   "metadata": {},
   "outputs": [
    {
     "data": {
      "text/plain": [
       "<qiskit.circuit.instructionset.InstructionSet at 0x13940e250>"
      ]
     },
     "execution_count": 8,
     "metadata": {},
     "output_type": "execute_result"
    }
   ],
   "source": [
    "## Create the initial state\n",
    "#to add from beginning\n",
    "q_reg = QuantumRegister(4)\n",
    "c_reg = ClassicalRegister(4)\n",
    "state = QuantumCircuit(q_reg,c_reg)\n",
    "state.x(1)\n",
    "state.x(0)\n"
   ]
  },
  {
   "cell_type": "code",
   "execution_count": 9,
   "metadata": {},
   "outputs": [
    {
     "name": "stderr",
     "output_type": "stream",
     "text": [
      "/Users/it058990/opt/anaconda3/envs/qiskit_new/lib/python3.8/site-packages/qiskit/aqua/operators/common.py:258: DeprecationWarning: The Pauli.numberofqubits method is deprecated as of 0.13.0, and will be removed no earlier than 3 months after that release date. You should use the Pauli.num_qubits method instead.\n",
      "  state_registers = QuantumRegister(pauli_list[0][1].numberofqubits)\n",
      "/Users/it058990/opt/anaconda3/envs/qiskit_new/lib/python3.8/site-packages/qiskit/aqua/operators/common.py:273: DeprecationWarning: The Pauli.numberofqubits method is deprecated as of 0.13.0, and will be removed no earlier than 3 months after that release date. You should use the Pauli.num_qubits method instead.\n",
      "  n_qubits = pauli[1].numberofqubits\n",
      "/Users/it058990/opt/anaconda3/envs/qiskit_new/lib/python3.8/site-packages/qiskit/aqua/operators/common.py:273: DeprecationWarning: The Pauli.numberofqubits method is deprecated as of 0.13.0, and will be removed no earlier than 3 months after that release date. You should use the Pauli.num_qubits method instead.\n",
      "  n_qubits = pauli[1].numberofqubits\n",
      "/Users/it058990/opt/anaconda3/envs/qiskit_new/lib/python3.8/site-packages/qiskit/aqua/operators/common.py:273: DeprecationWarning: The Pauli.numberofqubits method is deprecated as of 0.13.0, and will be removed no earlier than 3 months after that release date. You should use the Pauli.num_qubits method instead.\n",
      "  n_qubits = pauli[1].numberofqubits\n",
      "/Users/it058990/opt/anaconda3/envs/qiskit_new/lib/python3.8/site-packages/qiskit/aqua/operators/common.py:273: DeprecationWarning: The Pauli.numberofqubits method is deprecated as of 0.13.0, and will be removed no earlier than 3 months after that release date. You should use the Pauli.num_qubits method instead.\n",
      "  n_qubits = pauli[1].numberofqubits\n"
     ]
    }
   ],
   "source": [
    "#time evolution using aqua\n",
    "# Generate the time evolution (just test)\n",
    "evo_ham = hamiltonian.evolve(state_in=state, evo_time=np.pi/2, num_time_slices=1,\n",
    "               expansion_mode='trotter', expansion_order=3)"
   ]
  },
  {
   "cell_type": "code",
   "execution_count": 16,
   "metadata": {},
   "outputs": [
    {
     "name": "stdout",
     "output_type": "stream",
     "text": [
      "      ┌─────────────┐┌──────────┐                                       »\n",
      "q0_0: ┤ U3(pi,0,pi) ├┤ U2(0,pi) ├───────────────────────────────────────»\n",
      "      ├─────────────┤├──────────┤                                       »\n",
      "q0_1: ┤ U3(pi,0,pi) ├┤ U2(0,pi) ├──■─────────────────────────────■──────»\n",
      "      └─────────────┘└──────────┘┌─┴─┐                         ┌─┴─┐    »\n",
      "q0_2: ───────────────────────────┤ X ├──■────────────────■─────┤ X ├────»\n",
      "        ┌──────────┐             └───┘┌─┴─┐┌──────────┐┌─┴─┐┌──┴───┴───┐»\n",
      "q0_3: ──┤ U2(0,pi) ├──────────────────┤ X ├┤ U1(pi/2) ├┤ X ├┤ U2(0,pi) ├»\n",
      "        └──────────┘                  └───┘└──────────┘└───┘└──────────┘»\n",
      "c0_0: ══════════════════════════════════════════════════════════════════»\n",
      "                                                                        »\n",
      "c0_1: ══════════════════════════════════════════════════════════════════»\n",
      "                                                                        »\n",
      "c0_2: ══════════════════════════════════════════════════════════════════»\n",
      "                                                                        »\n",
      "c0_3: ══════════════════════════════════════════════════════════════════»\n",
      "                                                                        »\n",
      "«                                                                          »\n",
      "«q0_0: ────────────────────────────────────────────────────────────────────»\n",
      "«            ┌──────────┐     ┌─────────────────────┐                      »\n",
      "«q0_1: ──────┤ U2(0,pi) ├─────┤ U3(pi/2,-pi/2,pi/2) ├──■───────────────────»\n",
      "«            └──────────┘     └─────────────────────┘┌─┴─┐                 »\n",
      "«q0_2: ──────────────────────────────────────────────┤ X ├──■──────────────»\n",
      "«      ┌─────────────────────┐                       └───┘┌─┴─┐┌──────────┐»\n",
      "«q0_3: ┤ U3(pi/2,-pi/2,pi/2) ├────────────────────────────┤ X ├┤ U1(pi/2) ├»\n",
      "«      └─────────────────────┘                            └───┘└──────────┘»\n",
      "«c0_0: ════════════════════════════════════════════════════════════════════»\n",
      "«                                                                          »\n",
      "«c0_1: ════════════════════════════════════════════════════════════════════»\n",
      "«                                                                          »\n",
      "«c0_2: ════════════════════════════════════════════════════════════════════»\n",
      "«                                                                          »\n",
      "«c0_3: ════════════════════════════════════════════════════════════════════»\n",
      "«                                                                          »\n",
      "«                                                                     »\n",
      "«q0_0: ───────────────────────────────────────────────────────■───────»\n",
      "«                                   ┌──────────────────────┐┌─┴─┐     »\n",
      "«q0_1: ────────────────■────────────┤ U3(-pi/2,-pi/2,pi/2) ├┤ X ├──■──»\n",
      "«                    ┌─┴─┐          └─────┬──────────┬─────┘└───┘┌─┴─┐»\n",
      "«q0_2: ──■───────────┤ X ├────────────────┤ U2(0,pi) ├───────────┤ X ├»\n",
      "«      ┌─┴─┐┌────────┴───┴─────────┐      └──────────┘           └───┘»\n",
      "«q0_3: ┤ X ├┤ U3(-pi/2,-pi/2,pi/2) ├──────────────────────────────────»\n",
      "«      └───┘└──────────────────────┘                                  »\n",
      "«c0_0: ═══════════════════════════════════════════════════════════════»\n",
      "«                                                                     »\n",
      "«c0_1: ═══════════════════════════════════════════════════════════════»\n",
      "«                                                                     »\n",
      "«c0_2: ═══════════════════════════════════════════════════════════════»\n",
      "«                                                                     »\n",
      "«c0_3: ═══════════════════════════════════════════════════════════════»\n",
      "«                                                                     »\n",
      "«                                         ┌──────────┐     »\n",
      "«q0_0: ──────────────────────■────────────┤ U2(0,pi) ├─────»\n",
      "«                          ┌─┴─┐          └──────────┘     »\n",
      "«q0_1: ──────────────■─────┤ X ├───────────────────────────»\n",
      "«      ┌──────────┐┌─┴─┐┌──┴───┴───┐┌─────────────────────┐»\n",
      "«q0_2: ┤ U1(pi/2) ├┤ X ├┤ U2(0,pi) ├┤ U3(pi/2,-pi/2,pi/2) ├»\n",
      "«      └──────────┘└───┘└──────────┘└─────────────────────┘»\n",
      "«q0_3: ────────────────────────────────────────────────────»\n",
      "«                                                          »\n",
      "«c0_0: ════════════════════════════════════════════════════»\n",
      "«                                                          »\n",
      "«c0_1: ════════════════════════════════════════════════════»\n",
      "«                                                          »\n",
      "«c0_2: ════════════════════════════════════════════════════»\n",
      "«                                                          »\n",
      "«c0_3: ════════════════════════════════════════════════════»\n",
      "«                                                          »\n",
      "«      ┌─────────────────────┐                           »\n",
      "«q0_0: ┤ U3(pi/2,-pi/2,pi/2) ├──■────────────────────────»\n",
      "«      └─────────────────────┘┌─┴─┐                      »\n",
      "«q0_1: ───────────────────────┤ X ├──■────────────────■──»\n",
      "«                             └───┘┌─┴─┐┌──────────┐┌─┴─┐»\n",
      "«q0_2: ────────────────────────────┤ X ├┤ U1(pi/2) ├┤ X ├»\n",
      "«                                  └───┘└──────────┘└───┘»\n",
      "«q0_3: ──────────────────────────────────────────────────»\n",
      "«                                                        »\n",
      "«c0_0: ══════════════════════════════════════════════════»\n",
      "«                                                        »\n",
      "«c0_1: ══════════════════════════════════════════════════»\n",
      "«                                                        »\n",
      "«c0_2: ══════════════════════════════════════════════════»\n",
      "«                                                        »\n",
      "«c0_3: ══════════════════════════════════════════════════»\n",
      "«                                                        »\n",
      "«                              ┌──────────────────────┐\n",
      "«q0_0: ───────────■────────────┤ U3(-pi/2,-pi/2,pi/2) ├\n",
      "«               ┌─┴─┐          └──────────────────────┘\n",
      "«q0_1: ─────────┤ X ├──────────────────────────────────\n",
      "«      ┌────────┴───┴─────────┐                        \n",
      "«q0_2: ┤ U3(-pi/2,-pi/2,pi/2) ├────────────────────────\n",
      "«      └──────────────────────┘                        \n",
      "«q0_3: ────────────────────────────────────────────────\n",
      "«                                                      \n",
      "«c0_0: ════════════════════════════════════════════════\n",
      "«                                                      \n",
      "«c0_1: ════════════════════════════════════════════════\n",
      "«                                                      \n",
      "«c0_2: ════════════════════════════════════════════════\n",
      "«                                                      \n",
      "«c0_3: ════════════════════════════════════════════════\n",
      "«                                                      \n"
     ]
    }
   ],
   "source": [
    "print(evo_ham.decompose())"
   ]
  },
  {
   "cell_type": "code",
   "execution_count": 17,
   "metadata": {},
   "outputs": [
    {
     "name": "stdout",
     "output_type": "stream",
     "text": [
      "circuit_depth 28\n",
      "circuit_depth OrderedDict([('cx', 16), ('u3', 10), ('u2', 8), ('u1', 4)])\n"
     ]
    }
   ],
   "source": [
    "print('circuit_depth',evo_ham.decompose().depth())\n",
    "print('circuit_depth',evo_ham.decompose().count_ops())"
   ]
  },
  {
   "cell_type": "code",
   "execution_count": null,
   "metadata": {},
   "outputs": [],
   "source": []
  }
 ],
 "metadata": {
  "kernelspec": {
   "display_name": "Python 3",
   "language": "python",
   "name": "python3"
  },
  "language_info": {
   "codemirror_mode": {
    "name": "ipython",
    "version": 3
   },
   "file_extension": ".py",
   "mimetype": "text/x-python",
   "name": "python",
   "nbconvert_exporter": "python",
   "pygments_lexer": "ipython3",
   "version": "3.7.6"
  }
 },
 "nbformat": 4,
 "nbformat_minor": 4
}
